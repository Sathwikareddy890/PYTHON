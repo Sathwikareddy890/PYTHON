{
  "nbformat": 4,
  "nbformat_minor": 0,
  "metadata": {
    "colab": {
      "provenance": [],
      "authorship_tag": "ABX9TyMuIDOVBSTk91pkKwyZZIj7",
      "include_colab_link": true
    },
    "kernelspec": {
      "name": "python3",
      "display_name": "Python 3"
    },
    "language_info": {
      "name": "python"
    }
  },
  "cells": [
    {
      "cell_type": "markdown",
      "metadata": {
        "id": "view-in-github",
        "colab_type": "text"
      },
      "source": [
        "<a href=\"https://colab.research.google.com/github/Sathwikareddy890/pythonbootcamp/blob/main/day3_pybasics.ipynb\" target=\"_parent\"><img src=\"https://colab.research.google.com/assets/colab-badge.svg\" alt=\"Open In Colab\"/></a>"
      ]
    },
    {
      "cell_type": "code",
      "execution_count": 2,
      "metadata": {
        "colab": {
          "base_uri": "https://localhost:8080/"
        },
        "id": "R2XYFE2K_TEA",
        "outputId": "66e655b9-9990-4a5e-b3bb-3867b4380b22"
      },
      "outputs": [
        {
          "output_type": "stream",
          "name": "stdout",
          "text": [
            "apple\n",
            "banana\n",
            "dragon\n",
            "mango\n",
            "kiwi\n"
          ]
        }
      ],
      "source": [
        "fruits=['apple','banana','dragon','mango','kiwi']\n",
        "for x in fruits:\n",
        "        print(x)"
      ]
    },
    {
      "cell_type": "code",
      "source": [
        "for x in fruits:\n",
        "  if x=='mango':\n",
        "    break\n",
        "  print(x)"
      ],
      "metadata": {
        "colab": {
          "base_uri": "https://localhost:8080/"
        },
        "id": "6OnvtpWKAQ36",
        "outputId": "60148927-663d-4db4-bb0c-10545de6675c"
      },
      "execution_count": 12,
      "outputs": [
        {
          "output_type": "stream",
          "name": "stdout",
          "text": [
            "apple\n",
            "banana\n",
            "dragon\n"
          ]
        }
      ]
    },
    {
      "cell_type": "code",
      "source": [
        "fruits=['apple','banana','dragon','mango','kiwi']\n",
        "for x in fruits:\n",
        "  if x == 'mango':\n",
        "    continue\n",
        "  print(x)\n",
        "\n",
        ""
      ],
      "metadata": {
        "colab": {
          "base_uri": "https://localhost:8080/"
        },
        "id": "AsSb-nQgAjHq",
        "outputId": "c8b39184-99aa-40e5-dff3-cc9e2ee8fc52"
      },
      "execution_count": 13,
      "outputs": [
        {
          "output_type": "stream",
          "name": "stdout",
          "text": [
            "apple\n",
            "banana\n",
            "dragon\n",
            "kiwi\n"
          ]
        }
      ]
    },
    {
      "cell_type": "code",
      "source": [
        "#while\n",
        "num=1\n",
        "while num<5:\n",
        "  print(num)\n",
        "  num+=1"
      ],
      "metadata": {
        "colab": {
          "base_uri": "https://localhost:8080/"
        },
        "id": "yRjU4qEiBPlT",
        "outputId": "ef359613-3ff2-45f9-c33e-e7ddc02e10ef"
      },
      "execution_count": 14,
      "outputs": [
        {
          "output_type": "stream",
          "name": "stdout",
          "text": [
            "1\n",
            "2\n",
            "3\n",
            "4\n"
          ]
        }
      ]
    },
    {
      "cell_type": "code",
      "source": [
        "num=2\n",
        "while num<6:\n",
        "  num+=1\n",
        "  if num==5:\n",
        "    break\n",
        "  print(num)"
      ],
      "metadata": {
        "colab": {
          "base_uri": "https://localhost:8080/"
        },
        "id": "8KrGjyKiBaX3",
        "outputId": "08a939f6-9912-4279-f6d9-cf2eef304e6b"
      },
      "execution_count": 17,
      "outputs": [
        {
          "output_type": "stream",
          "name": "stdout",
          "text": [
            "3\n",
            "4\n"
          ]
        }
      ]
    },
    {
      "cell_type": "code",
      "source": [
        "num=1\n",
        "while num<6:\n",
        "  num+=1\n",
        "  if num==5:\n",
        "    continue\n",
        "  print(num)\n"
      ],
      "metadata": {
        "colab": {
          "base_uri": "https://localhost:8080/"
        },
        "id": "UxJppW1nCD71",
        "outputId": "1f113a69-bd90-442c-884f-49a0518e0c76"
      },
      "execution_count": 19,
      "outputs": [
        {
          "output_type": "stream",
          "name": "stdout",
          "text": [
            "2\n",
            "3\n",
            "4\n",
            "6\n"
          ]
        }
      ]
    },
    {
      "cell_type": "code",
      "source": [
        "#FUNCTIONS\n",
        "#function is a block of code which runs only when it is called\n",
        "#advanced functions : lambda , map,zip\n",
        "def my_function(): #function defining\n",
        "  print(\"hello there iam sathwika\")\n",
        "my_function()   #function calling"
      ],
      "metadata": {
        "colab": {
          "base_uri": "https://localhost:8080/"
        },
        "id": "K2DInto_CrZ7",
        "outputId": "f3488f7b-b6dc-4670-d5f1-94f360cca776"
      },
      "execution_count": 21,
      "outputs": [
        {
          "output_type": "stream",
          "name": "stdout",
          "text": [
            "hello there iam sathwika\n"
          ]
        }
      ]
    },
    {
      "cell_type": "code",
      "source": [
        "def my_id(number):                               #functions with arguments\n",
        "  print(\"sreedevi student_\"+ number)\n",
        "my_id(\"21d21a0416\")"
      ],
      "metadata": {
        "colab": {
          "base_uri": "https://localhost:8080/"
        },
        "id": "IMFvxGJuEjqw",
        "outputId": "a5f77a21-9d05-414a-9027-df3e617db897"
      },
      "execution_count": 24,
      "outputs": [
        {
          "output_type": "stream",
          "name": "stdout",
          "text": [
            "sreedevi student_21d21a0416\n"
          ]
        }
      ]
    },
    {
      "cell_type": "code",
      "source": [
        "def add(a,b,c):\n",
        "  return a+b+c\n",
        "print(add(3,4,5))"
      ],
      "metadata": {
        "colab": {
          "base_uri": "https://localhost:8080/"
        },
        "id": "_W9pPSZ9FlNR",
        "outputId": "2de5a461-e82c-419e-eb19-0526f5d8daeb"
      },
      "execution_count": 27,
      "outputs": [
        {
          "output_type": "stream",
          "name": "stdout",
          "text": [
            "12\n"
          ]
        }
      ]
    },
    {
      "cell_type": "code",
      "source": [
        "#using lamba function\n",
        "add=lambda a,b,c: print(a+b+c)\n",
        "add(4,5,1)"
      ],
      "metadata": {
        "colab": {
          "base_uri": "https://localhost:8080/"
        },
        "id": "mTW4ie9bGSHa",
        "outputId": "abbebd94-d154-4768-92e5-bd04aa911638"
      },
      "execution_count": 28,
      "outputs": [
        {
          "output_type": "stream",
          "name": "stdout",
          "text": [
            "10\n"
          ]
        }
      ]
    },
    {
      "cell_type": "code",
      "source": [
        "#map function     (we can pass multiple values at the same time)\n",
        "\n",
        "names=[\"lucy\",\"frooti\",\"joya\",\"abhi\"]\n",
        "def id(n):\n",
        "  print(\"hello\"+n)\n",
        "stu=map(id,names)\n",
        "print(list(stu))\n",
        "\n",
        "\n"
      ],
      "metadata": {
        "colab": {
          "base_uri": "https://localhost:8080/"
        },
        "id": "vaYTlL2tGqwn",
        "outputId": "0bdbe65a-b66d-41bf-82c0-94f4a67e61f3"
      },
      "execution_count": 30,
      "outputs": [
        {
          "output_type": "stream",
          "name": "stdout",
          "text": [
            "hellolucy\n",
            "hellofrooti\n",
            "hellojoya\n",
            "helloabhi\n",
            "[None, None, None, None]\n"
          ]
        }
      ]
    },
    {
      "cell_type": "code",
      "source": [
        "#zip functions\n",
        "name=[\"nikil\",\"hari\",\"manjula\"]\n",
        "id=[1,2,3]\n",
        "print(list(zip(name,id)))"
      ],
      "metadata": {
        "colab": {
          "base_uri": "https://localhost:8080/"
        },
        "id": "DlNHAAVzIEMn",
        "outputId": "23d11adc-d60a-43d6-ea6b-0225e5eec1bb"
      },
      "execution_count": 31,
      "outputs": [
        {
          "output_type": "stream",
          "name": "stdout",
          "text": [
            "[('nikil', 1), ('hari', 2), ('manjula', 3)]\n"
          ]
        }
      ]
    }
  ]
}